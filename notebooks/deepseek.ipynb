{
 "cells": [
  {
   "cell_type": "code",
   "execution_count": null,
   "metadata": {},
   "outputs": [],
   "source": [
    "import openai\n",
    "import json\n",
    "from deepseek_v3 import loadenv  # Ensure that you have the deepseek_v3 package installed"
   ]
  },
  {
   "cell_type": "code",
   "execution_count": null,
   "metadata": {},
   "outputs": [],
   "source": [
    "# Load environment variables, including your API key\n",
    "loadenv()"
   ]
  },
  {
   "cell_type": "code",
   "execution_count": null,
   "metadata": {},
   "outputs": [],
   "source": [
    "# Example function\n",
    "\n",
    "def genrate_flashcards(raw_text, model_name):\n",
    "    \"\"\"\n",
    "    Generate flashcards of key concepts from the provided text document.\n",
    "    \n",
    "    Parameters:\n",
    "        raw_text (str): The document text to extract flashcards from.\n",
    "        model_name (str): The model to use (e.g., \"deepseek_v3\").\n",
    "        \n",
    "    Returns:\n",
    "        A JSON-parsed output containing flashcards with keys \"question\" and \"answer\".\n",
    "    \"\"\"\n",
    "    # Construct the prompt with clear instructions and include the document text.\n",
    "    prompt = (\n",
    "        \"Generate flash cards of key concepts based on this document. \"\n",
    "        \"Output the response as JSON with keys 'question' and 'answer'.\\n\\n\"\n",
    "        f\"Document:\\n{raw_text}\"\n",
    "    )\n",
    "    \n",
    "    # Call the API using the specified model\n",
    "    response = openai.Completion.create(\n",
    "        model=model_name,\n",
    "        prompt=prompt,\n",
    "        max_tokens=500,      # Adjust this based on your expected output size\n",
    "        temperature=0.7,\n",
    "        top_p=1,\n",
    "        frequency_penalty=0,\n",
    "        presence_penalty=0,\n",
    "        n=1,\n",
    "        stop=None\n",
    "    )\n",
    "    \n",
    "    # Extract the text from the API response\n",
    "    result_text = response.choices[0].text.strip()\n",
    "    \n",
    "    # Attempt to parse the text as JSON\n",
    "    try:\n",
    "        flashcards = json.loads(result_text)\n",
    "    except json.JSONDecodeError as e:\n",
    "        flashcards = {\n",
    "            \"error\": \"Failed to parse JSON\",\n",
    "            \"response\": result_text,\n",
    "            \"exception\": str(e)\n",
    "        }\n",
    "    return flashcards"
   ]
  },
  {
   "cell_type": "code",
   "execution_count": null,
   "metadata": {},
   "outputs": [],
   "source": [
    "# Example usage:\n",
    "raw_text = (\n",
    "    \"Machine learning is a field of artificial intelligence that uses statistical techniques to \"\n",
    "    \"give computer systems the ability to 'learn' from data without being explicitly programmed. \"\n",
    "    \"Key concepts include supervised learning, unsupervised learning, and reinforcement learning.\"\n",
    ")\n",
    "model_name = \"deepseek_v3\"  # Replace with the actual model name if different\n",
    "\n",
    "flashcards = genrate_flashcards(raw_text, model_name)\n",
    "print(\"Generated Flashcards:\")\n",
    "print(flashcards)"
   ]
  }
 ],
 "metadata": {
  "language_info": {
   "name": "python"
  }
 },
 "nbformat": 4,
 "nbformat_minor": 2
}
