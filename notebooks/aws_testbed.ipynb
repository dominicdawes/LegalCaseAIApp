{
 "cells": [
  {
   "cell_type": "code",
   "execution_count": 4,
   "metadata": {},
   "outputs": [],
   "source": [
    "import sys\n",
    "import os\n",
    "\n",
    "# Get the absolute path of the project root (one level up from 'notebooks')\n",
    "project_root = os.path.abspath('..')\n",
    "# Add the project root to sys.path\n",
    "sys.path.insert(0, project_root)\n",
    "\n",
    "from utils.cloudfront_utils import get_cloudfront_url\n"
   ]
  },
  {
   "cell_type": "code",
   "execution_count": 7,
   "metadata": {},
   "outputs": [
    {
     "name": "stdout",
     "output_type": "stream",
     "text": [
      "https://d3ufsgi317h5pp.cloudfront.net/default_podcast.png\n"
     ]
    }
   ],
   "source": [
    "object_key = 'default_podcast.png'\n",
    "\n",
    "cloudfront_podcast_url = get_cloudfront_url(object_key)\n",
    "print(cloudfront_podcast_url)"
   ]
  }
 ],
 "metadata": {
  "kernelspec": {
   "display_name": "pdf2pod",
   "language": "python",
   "name": "python3"
  },
  "language_info": {
   "codemirror_mode": {
    "name": "ipython",
    "version": 3
   },
   "file_extension": ".py",
   "mimetype": "text/x-python",
   "name": "python",
   "nbconvert_exporter": "python",
   "pygments_lexer": "ipython3",
   "version": "3.9.19"
  }
 },
 "nbformat": 4,
 "nbformat_minor": 2
}
