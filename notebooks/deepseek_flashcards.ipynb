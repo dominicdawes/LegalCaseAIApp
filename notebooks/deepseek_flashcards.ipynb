{
 "cells": [
  {
   "cell_type": "markdown",
   "metadata": {},
   "source": [
    "Notebook for lindon to use"
   ]
  },
  {
   "cell_type": "code",
   "execution_count": null,
   "metadata": {},
   "outputs": [],
   "source": [
    "import os\n",
    "import json\n",
    "import openai  # Ensure openai is installed\n",
    "from openai import OpenAI\n",
    "from dotenv import load_dotenv"
   ]
  },
  {
   "cell_type": "code",
   "execution_count": 2,
   "metadata": {},
   "outputs": [
    {
     "name": "stdout",
     "output_type": "stream",
     "text": [
      "API key loaded successfully.\n"
     ]
    }
   ],
   "source": [
    "# Load environment variables\n",
    "load_dotenv()\n",
    "\n",
    "# Remove the SSL_CERT_FILE variable from the environment if it exists.\n",
    "os.environ.pop(\"SSL_CERT_FILE\", None)\n",
    "\n",
    "# Configuration: Fetch the DeepSeek API key and set the Base URL.\n",
    "DEEPSEEK_API_KEY = os.getenv('DEEPSEEK_API')\n",
    "\n",
    "if not DEEPSEEK_API_KEY:\n",
    "    print(\"API key not found. Please check your .env file.\")\n",
    "else:\n",
    "    print(\"API key loaded successfully.\")\n",
    "\n",
    "DEEPSEEK_BASE_URL = \"https://api.deepseek.com\""
   ]
  },
  {
   "cell_type": "code",
   "execution_count": 3,
   "metadata": {},
   "outputs": [],
   "source": [
    "# Initialize the OpenAI client to work with DeepSeek.\n",
    "client = OpenAI(\n",
    "    api_key=DEEPSEEK_API_KEY, \n",
    "    base_url=DEEPSEEK_BASE_URL\n",
    ")"
   ]
  },
  {
   "cell_type": "code",
   "execution_count": 4,
   "metadata": {},
   "outputs": [],
   "source": [
    "def generate_flashcards(raw_text: str, model: str = \"deepseek-chat\") -> list:\n",
    "    \"\"\"\n",
    "    Generates flashcards from the provided legal text using DeepSeek's chat completions API.\n",
    "    \n",
    "    This function crafts a prompt instructing the model to analyze the legal text and generate flashcards.\n",
    "    Each flashcard will have a key legal term as 'Front' and a very succinct definition as 'Back'.\n",
    "    \n",
    "    Parameters:\n",
    "        raw_text (str): The legal text to analyze.\n",
    "        model (str): The DeepSeek model to use (default: \"deepseek-chat\").\n",
    "    \n",
    "    Returns:\n",
    "        list: A list of flashcard dictionaries in the format \n",
    "              [{'Front': 'Key Term', 'Back': 'Definition'}, ...].\n",
    "              If the response is empty or cannot be parsed as JSON, returns the raw response content.\n",
    "    \"\"\"\n",
    "    messages = [\n",
    "        {\n",
    "            \"role\": \"system\", \n",
    "            \"content\": \"You are a helpful assistant that generates flashcards for legal text.\"\n",
    "        },\n",
    "        {\n",
    "            \"role\": \"user\", \n",
    "            \"content\": f\"Analyze the following legal text and generate flashcards. Each flashcard should include a key legal term as 'Front' and a very succinct definition as 'Back':\\n\\n{raw_text}\"\n",
    "        }\n",
    "    ]\n",
    "    \n",
    "    # Send the prompt to DeepSeek's chat completions API.\n",
    "    response = client.chat.completions.create(\n",
    "        model=model,\n",
    "        messages=messages,\n",
    "        stream=False\n",
    "    )\n",
    "    \n",
    "    # Extract the message content from the response.\n",
    "    message_content = response.choices[0].message.content\n",
    "    \n",
    "    # Check if the response content is empty.\n",
    "    if not message_content.strip():\n",
    "        return \"No response from API.\"\n",
    "    \n",
    "    # Try to parse the response as JSON. If that fails, return the raw message.\n",
    "    try:\n",
    "        flashcards = json.loads(message_content)\n",
    "    except json.JSONDecodeError:\n",
    "        flashcards = message_content\n",
    "    \n",
    "    return flashcards\n"
   ]
  },
  {
   "cell_type": "code",
   "execution_count": 5,
   "metadata": {},
   "outputs": [],
   "source": [
    "### ADD IN TEXT OF YOUR CHOICE\n",
    "legal_text='Brown v. Board of Education (1954) Brown v. Board of Education of Topeka, Opinion; May 17, 1954; Records of the Supreme Court of the United States; Record Group 267; National Archives. \\\n",
    "In this milestone decision, the Supreme Court ruled that separating children in public schools on the basis of race was unconstitutional. It signaled the end of legalized racial segregation in the \\\n",
    "schools of the United States, overruling the \"separate but equal\" principle set forth in the 1896 Plessy v. Ferguson case. \\\n",
    "On May 17, 1954, U.S. Supreme Court Justice Earl Warren delivered the unanimous ruling in the landmark civil rights case Brown v. Board of Education of Topeka, Kansas. \\\n",
    "State-sanctioned segregation of public schools was a violation of the 14th amendment and was therefore unconstitutional. This historic decision marked the end of the  \\\n",
    "\"separate but equal\" precedent set by the Supreme Court nearly 60 years earlier in Plessy v. Ferguson and served as a catalyst for the expanding civil rights movement during \\\n",
    "the decade of the 1950s. Arguments were to be heard during the next term to determine just how the ruling would be imposed. Just over one year later, on May 31, 1955, Warren \\\n",
    "read the Courts unanimous decision, now referred to as Brown II, instructing the states to begin desegregation plans \"with all deliberate speed. \\\n",
    "Despite two unanimous decisions and careful, if vague, wording, there was considerable resistance to the Supreme Courts ruling in Brown v. Board of Education. \\\n",
    "In addition to the obvious disapproving segregationists were some constitutional scholars who felt that the decision went against legal tradition by relying heavily on data \\\n",
    "supplied by social scientists rather than precedent or established law. Supporters of judicial restraint believed the Court had overstepped its constitutional powers by essentially writing new law. \\\n",
    "However, minority groups and members of the civil rights movement were buoyed by the Brown decision even without specific directions for implementation. Proponents of judicial \\\n",
    "activism believed the Supreme Court had appropriately used its position to adapt the basis of the Constitution to address new problems in new times. The Warren Court stayed this \\\n",
    "course for the next 15 years, deciding cases that significantly affected not only race relations, but also the administration of criminal justice, the operation of the political \\\n",
    "process, and the separation of church and state.'"
   ]
  },
  {
   "cell_type": "code",
   "execution_count": 6,
   "metadata": {},
   "outputs": [
    {
     "name": "stdout",
     "output_type": "stream",
     "text": [
      "\n",
      "Flashcards generated by DeepSeek:\n",
      "Here are the flashcards based on the legal text of *Brown v. Board of Education (1954)*:\n",
      "\n",
      "---\n",
      "\n",
      "**Front:** Brown v. Board of Education (1954)  \n",
      "**Back:** Landmark Supreme Court case ruling racial segregation in public schools unconstitutional under the 14th Amendment.  \n",
      "\n",
      "---\n",
      "\n",
      "**Front:** \"Separate but equal\"  \n",
      "**Back:** Doctrine overturned by *Brown v. Board*, established by *Plessy v. Ferguson* (1896) to justify racial segregation.  \n",
      "\n",
      "---\n",
      "\n",
      "**Front:** 14th Amendment  \n",
      "**Back:** Constitutional basis for *Brown* ruling, guaranteeing equal protection under the law.  \n",
      "\n",
      "---\n",
      "\n",
      "**Front:** Judicial activism  \n",
      "**Back:** Approach favoring adaptive interpretation of the Constitution to address modern issues, as seen in *Brown*.  \n",
      "\n",
      "---\n",
      "\n",
      "**Front:** Judicial restraint  \n",
      "**Back:** Philosophy criticizing *Brown* for overreach, arguing courts should defer to precedent and legislation.  \n",
      "\n",
      "---\n",
      "\n",
      "**Front:** Brown II (1955)  \n",
      "**Back:** Follow-up ruling ordering school desegregation \"with all deliberate speed.\"  \n",
      "\n",
      "---\n",
      "\n",
      "**Front:** Earl Warren  \n",
      "**Back:** Chief Justice who delivered the unanimous *Brown* opinion.  \n",
      "\n",
      "---\n",
      "\n",
      "**Front:** Desegregation resistance  \n",
      "**Back:** Opposition to *Brown*, notably from segregationists and critics of judicial activism.  \n",
      "\n",
      "---\n",
      "\n",
      "**Front:** Civil rights movement catalyst  \n",
      "**Back:** *Brown*'s role in energizing efforts to end racial discrimination in the 1950s–1960s.  \n",
      "\n",
      "---\n",
      "\n",
      "**Front:** Warren Court  \n",
      "**Back:** Era (1953–1969) marked by progressive rulings on race, criminal justice, and civil liberties.  \n",
      "\n",
      "--- \n",
      "\n",
      "Each card pairs a key term with a concise definition for efficient review. Let me know if you'd like adjustments!\n"
     ]
    }
   ],
   "source": [
    "flashcards = generate_flashcards(legal_text)\n",
    "print(\"\\nFlashcards generated by DeepSeek:\")\n",
    "print(flashcards)"
   ]
  }
 ],
 "metadata": {
  "kernelspec": {
   "display_name": "pdf2pod",
   "language": "python",
   "name": "python3"
  },
  "language_info": {
   "codemirror_mode": {
    "name": "ipython",
    "version": 3
   },
   "file_extension": ".py",
   "mimetype": "text/x-python",
   "name": "python",
   "nbconvert_exporter": "python",
   "pygments_lexer": "ipython3",
   "version": "3.9.19"
  }
 },
 "nbformat": 4,
 "nbformat_minor": 2
}
